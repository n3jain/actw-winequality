{
 "cells": [
  {
   "cell_type": "markdown",
   "metadata": {},
   "source": [
    "# ACT-W Machine Learning 101\n",
    "\n",
    "We're going to walk through the full process of building an initial model on a toy problem. Afterward, we'll provide you a related problem for you to solve on your own (with our help if you need any).\n",
    "\n",
    "The problem we'll be looking at is predicting whether a wine is a red wine or white wine, depending on a variety of features. Afterwards, you can take the same dataset and predict the perceived quality of the wine.\n",
    "\n",
    "All data has been taken from the [UCI ML repository](http://archive.ics.uci.edu/ml/datasets/Wine+Quality)."
   ]
  },
  {
   "cell_type": "code",
   "execution_count": null,
   "metadata": {
    "collapsed": false
   },
   "outputs": [],
   "source": [
    "%ls"
   ]
  },
  {
   "cell_type": "markdown",
   "metadata": {},
   "source": [
    "## Loading Data\n",
    "\n",
    "To load data, we'll use a helpful library called `pandas` which has many helper methods for loading and manipulating data. You can find more information on using pandas from this [pandas tutorial](http://pandas.pydata.org/pandas-docs/stable/10min.html).\n",
    "\n",
    "`pandas` stores data in `DataFrame` objects -- this is basically a table. Each row is a record (in our case a wine), and each column is a different feature of a wine."
   ]
  },
  {
   "cell_type": "code",
   "execution_count": null,
   "metadata": {
    "collapsed": false
   },
   "outputs": [],
   "source": [
    "import pandas as pd\n",
    "\n",
    "reds = pd.read_csv(\"winequality-red.csv\", sep=\";\")\n",
    "print(reds.head())"
   ]
  },
  {
   "cell_type": "markdown",
   "metadata": {},
   "source": [
    "We can also print out the column names for all the features we have:"
   ]
  },
  {
   "cell_type": "code",
   "execution_count": null,
   "metadata": {
    "collapsed": false
   },
   "outputs": [],
   "source": [
    "source_cols = reds.columns\n",
    "print(source_cols)"
   ]
  },
  {
   "cell_type": "markdown",
   "metadata": {},
   "source": [
    "## Preparing the data\n",
    "\n",
    "The dataset is split into two sets: one for reds and one for whites. Let's add another column to distinguish between red and white so we can join them later. We'll let a red wine be `1` and a white wine be `0`."
   ]
  },
  {
   "cell_type": "code",
   "execution_count": null,
   "metadata": {
    "collapsed": false
   },
   "outputs": [],
   "source": [
    "reds['winetype'] = 1\n",
    "print(reds.head())"
   ]
  },
  {
   "cell_type": "markdown",
   "metadata": {},
   "source": [
    "Now we can load in the white wines and do what we did with the red wines:"
   ]
  },
  {
   "cell_type": "code",
   "execution_count": null,
   "metadata": {
    "collapsed": true
   },
   "outputs": [],
   "source": [
    "whites = pd.read_csv(\"winequality-white.csv\", sep = \";\")\n",
    "whites['winetype'] = 0"
   ]
  },
  {
   "cell_type": "markdown",
   "metadata": {},
   "source": [
    "Now we will merge the two datasets and pick the labels winetype and features for each of the wines."
   ]
  },
  {
   "cell_type": "code",
   "execution_count": null,
   "metadata": {
    "collapsed": false
   },
   "outputs": [],
   "source": [
    "allwines = pd.concat([reds, whites])\n",
    "print(allwines.head())\n",
    "print(allwines.tail())\n",
    "print(allwines.shape)"
   ]
  },
  {
   "cell_type": "code",
   "execution_count": null,
   "metadata": {
    "collapsed": false
   },
   "outputs": [],
   "source": [
    "label_columns = ['winetype', 'quality']\n",
    "feature_columns = [col for col in allwines.columns if col not in label_columns]\n",
    "\n",
    "winetype_labels = allwines[['winetype']]\n",
    "winetype_features = allwines[feature_columns]\n",
    "\n",
    "print(\"Labels shape: \", winetype_labels.shape)\n",
    "print(\"Features shape: \", winetype_features.shape)"
   ]
  },
  {
   "cell_type": "markdown",
   "metadata": {},
   "source": [
    "## Model Selection\n",
    "\n",
    "Let's pick a model for training a model to classify wines based on color. \n",
    "\n",
    "http://scikit-learn.org/stable/tutorial/machine_learning_map/\n",
    "\n",
    "In order to train a Linear SVM, we need to generate training data and then verify the accuracy of the model using test data. So we will use the data we have and split it into train and test data."
   ]
  },
  {
   "cell_type": "code",
   "execution_count": null,
   "metadata": {
    "collapsed": false
   },
   "outputs": [],
   "source": [
    "from sklearn.utils import shuffle\n",
    "from sklearn.model_selection import train_test_split\n",
    "\n",
    "winetype_feautures, winetype_labels = shuffle(winetype_features, winetype_labels)\n",
    "train_data, test_data, train_labels, test_labels = train_test_split(winetype_features, winetype_labels, test_size=0.35)"
   ]
  },
  {
   "cell_type": "markdown",
   "metadata": {},
   "source": [
    "## Model Training\n",
    "\n",
    "Now let's pick up the model and train it with the data.\n",
    "\n",
    "Note: we use the method `ravel` from `numpy` here to reshape our labels. Because of how we extracted the data, it's actually a _column_, but we just need it to be a flat array. `ravel` takes care of that for us simply. It will still work without it, but you'll get a deprecation warning. `numpy` is also a helpful library, you can find more about in the [tutorial](https://docs.scipy.org/doc/numpy-dev/user/quickstart.html).\n",
    "\n",
    "We'll also be using the `sklearn` library. This has tons of machine learning models implemented with a simple interface. You can find more about [sklearn here](http://scikit-learn.org/stable/)."
   ]
  },
  {
   "cell_type": "code",
   "execution_count": null,
   "metadata": {
    "collapsed": false
   },
   "outputs": [],
   "source": [
    "from sklearn.svm import SVC\n",
    "import numpy as np\n",
    "\n",
    "clf = SVC()\n",
    "clf.fit(train_data, np.ravel(train_labels))\n",
    "predicted_labels = clf.predict(test_data)"
   ]
  },
  {
   "cell_type": "markdown",
   "metadata": {},
   "source": [
    "## Model Evaluation"
   ]
  },
  {
   "cell_type": "code",
   "execution_count": null,
   "metadata": {
    "collapsed": false
   },
   "outputs": [],
   "source": [
    "print(\"Model score: {0}\".format(clf.score(test_data, test_labels)))"
   ]
  },
  {
   "cell_type": "markdown",
   "metadata": {},
   "source": [
    "## Your Turn\n",
    "\n",
    "Now let's think about training a model that predicts the *quality* of the wine. Remember whenGo through the same steps!\n",
    "\n",
    "1. Load Data\n",
    "2. Prepare Data\n",
    "3. Train/Test Split\n",
    "4. Select Model\n",
    "5. Train Model\n",
    "6. Evaluate Model\n",
    "\n",
    "What's the best score you can get?"
   ]
  },
  {
   "cell_type": "markdown",
   "metadata": {},
   "source": [
    "## Going Further\n",
    "\n",
    "What do you do after you have an initial model? Well, maybe it's good enough to deploy. Or, maybe there's some room for improvement.\n",
    "\n",
    "Something many practitioners engage in is error analysis: take a look at what your model doesn't do so well on and try to figure out what the underlying issue is; maybe the issue is noisy data, maybe it's a faulty assumption of your model, or maybe you could be using better features. It's often hard to do this very effectively unless you know a lot about the underlying model -- so this might be an exercise you return to.\n",
    "\n",
    "If you're looking to go deeper, here are some resources to help you:\n",
    "\n",
    "* [Kaggle](https://www.kaggle.com/)\n",
    "* [Udacity ML Nanodegree](https://www.udacity.com/course/machine-learning-engineer-nanodegree--nd009)\n",
    "* [Coursera ML](https://www.coursera.org/learn/machine-learning)\n",
    "* [Machine Learning: A Probabilistic Perspective](https://www.amazon.com/Machine-Learning-Probabilistic-Perspective-Computation/dp/0262018020) -- WARNING: math heavy\n",
    "* [Deep Learning Book](http://www.deeplearningbook.org/)\n",
    "* [OpenAI Gym](https://gym.openai.com/)"
   ]
  },
  {
   "cell_type": "code",
   "execution_count": null,
   "metadata": {
    "collapsed": true
   },
   "outputs": [],
   "source": []
  }
 ],
 "metadata": {
  "kernelspec": {
   "display_name": "Python 3",
   "language": "python",
   "name": "python3"
  },
  "language_info": {
   "codemirror_mode": {
    "name": "ipython",
    "version": 3
   },
   "file_extension": ".py",
   "mimetype": "text/x-python",
   "name": "python",
   "nbconvert_exporter": "python",
   "pygments_lexer": "ipython3",
   "version": "3.5.2"
  }
 },
 "nbformat": 4,
 "nbformat_minor": 2
}
